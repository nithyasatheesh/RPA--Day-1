{
 "cells": [
  {
   "cell_type": "markdown",
   "id": "5e30b664",
   "metadata": {},
   "source": [
    "Jupyter notebook file extension-->.ipynb\n",
    "\n",
    "Run code--> shift+enter / ctrl +enter"
   ]
  },
  {
   "cell_type": "markdown",
   "id": "1876b06b",
   "metadata": {},
   "source": [
    "## Python Fundamentals"
   ]
  },
  {
   "cell_type": "markdown",
   "id": "58975f50",
   "metadata": {},
   "source": [
    "**Basics in Python**\n",
    "\n",
    "- Comments\n",
    "\n",
    "- Variable\n",
    "\n",
    "+ Keywords\n",
    "\n",
    "* Constant\n",
    "\n",
    "**Data types**\n",
    "\n",
    "**Operators**\n",
    "\n",
    "**Conditional statements & Looping strucutures**\n",
    "\n",
    "**Data Structures**"
   ]
  },
  {
   "cell_type": "markdown",
   "id": "5a944683",
   "metadata": {},
   "source": [
    "#### Comments"
   ]
  },
  {
   "cell_type": "code",
   "execution_count": null,
   "id": "ed5d70d4",
   "metadata": {},
   "outputs": [],
   "source": []
  },
  {
   "cell_type": "markdown",
   "id": "a023bcd1",
   "metadata": {},
   "source": [
    "#### Variable\n"
   ]
  },
  {
   "cell_type": "code",
   "execution_count": null,
   "id": "96bac3f0",
   "metadata": {},
   "outputs": [],
   "source": []
  },
  {
   "cell_type": "markdown",
   "id": "b32233fc",
   "metadata": {},
   "source": [
    "### pep 8 documentation\n",
    "\n",
    "- Variable name should not start with digit.\n",
    "- Variable name should not contain any special symbols except '_'"
   ]
  },
  {
   "cell_type": "markdown",
   "id": "cc9d9854",
   "metadata": {},
   "source": [
    "- Python is case sensitive\n",
    "- Python index starts from 0."
   ]
  },
  {
   "cell_type": "code",
   "execution_count": null,
   "id": "da9c882e",
   "metadata": {},
   "outputs": [],
   "source": []
  },
  {
   "cell_type": "code",
   "execution_count": null,
   "id": "c39534f3",
   "metadata": {},
   "outputs": [],
   "source": []
  },
  {
   "cell_type": "code",
   "execution_count": null,
   "id": "a465f5ee",
   "metadata": {},
   "outputs": [],
   "source": []
  },
  {
   "cell_type": "markdown",
   "id": "284f8072",
   "metadata": {},
   "source": [
    "#### Keywords"
   ]
  },
  {
   "cell_type": "markdown",
   "id": "d472bac6",
   "metadata": {},
   "source": [
    "#### Constant\n",
    "\n"
   ]
  },
  {
   "cell_type": "code",
   "execution_count": null,
   "id": "d2f001d3",
   "metadata": {},
   "outputs": [],
   "source": []
  },
  {
   "cell_type": "code",
   "execution_count": null,
   "id": "43875554",
   "metadata": {},
   "outputs": [],
   "source": [
    "# create variable"
   ]
  },
  {
   "cell_type": "code",
   "execution_count": null,
   "id": "51ac6fc6",
   "metadata": {},
   "outputs": [],
   "source": [
    "# create multiple variables in a single line of code\n"
   ]
  },
  {
   "cell_type": "code",
   "execution_count": null,
   "id": "02099d23",
   "metadata": {},
   "outputs": [],
   "source": [
    "# assign same value to multiple variables\n"
   ]
  },
  {
   "cell_type": "code",
   "execution_count": null,
   "id": "ad4e3523",
   "metadata": {},
   "outputs": [],
   "source": [
    "# output"
   ]
  },
  {
   "cell_type": "code",
   "execution_count": null,
   "id": "717e83f6",
   "metadata": {},
   "outputs": [],
   "source": [
    "# output: The value of b is 23\n"
   ]
  },
  {
   "cell_type": "code",
   "execution_count": null,
   "id": "d2e83732",
   "metadata": {},
   "outputs": [],
   "source": [
    "# output: The value of c is 78 and d is 11\n"
   ]
  },
  {
   "cell_type": "code",
   "execution_count": null,
   "id": "50a5977a",
   "metadata": {},
   "outputs": [],
   "source": []
  },
  {
   "cell_type": "markdown",
   "id": "576df090",
   "metadata": {},
   "source": [
    "#### Data types\n",
    "\n",
    "- numeric (int, float)\n",
    "- bool\n",
    "- complex\n",
    "- string"
   ]
  },
  {
   "cell_type": "code",
   "execution_count": null,
   "id": "fb7cf223",
   "metadata": {},
   "outputs": [],
   "source": []
  },
  {
   "cell_type": "code",
   "execution_count": null,
   "id": "ce290a93",
   "metadata": {},
   "outputs": [],
   "source": []
  },
  {
   "cell_type": "code",
   "execution_count": null,
   "id": "faabc511",
   "metadata": {},
   "outputs": [],
   "source": []
  },
  {
   "cell_type": "code",
   "execution_count": null,
   "id": "fcc14e59",
   "metadata": {},
   "outputs": [],
   "source": []
  },
  {
   "cell_type": "code",
   "execution_count": null,
   "id": "2e9c6919",
   "metadata": {},
   "outputs": [],
   "source": []
  },
  {
   "cell_type": "code",
   "execution_count": null,
   "id": "cf6a189b",
   "metadata": {},
   "outputs": [],
   "source": [
    "## add integer value and float value then check data type"
   ]
  },
  {
   "cell_type": "code",
   "execution_count": null,
   "id": "9a8e20da",
   "metadata": {},
   "outputs": [],
   "source": []
  },
  {
   "cell_type": "code",
   "execution_count": null,
   "id": "b122476d",
   "metadata": {},
   "outputs": [],
   "source": [
    "F=23.67543\n",
    "# round it into 2 decimal places"
   ]
  },
  {
   "cell_type": "code",
   "execution_count": null,
   "id": "5735a586",
   "metadata": {},
   "outputs": [],
   "source": [
    "# round(value, no of decimal places)\n"
   ]
  },
  {
   "cell_type": "markdown",
   "id": "c90e9649",
   "metadata": {},
   "source": [
    "#### input() function"
   ]
  },
  {
   "cell_type": "code",
   "execution_count": null,
   "id": "0e3fa9d8",
   "metadata": {},
   "outputs": [],
   "source": []
  },
  {
   "cell_type": "code",
   "execution_count": null,
   "id": "e8d99b26",
   "metadata": {},
   "outputs": [],
   "source": []
  },
  {
   "cell_type": "raw",
   "id": "aadddf75",
   "metadata": {},
   "source": [
    "# using input()--> Take input as integer value 5 to x and convert it into float data type\n",
    "               --> Take input as char/string value'abc' to s\n",
    "               --> Take input as float value 3.23490 to y and print the output as 3 decimal places."
   ]
  },
  {
   "cell_type": "code",
   "execution_count": null,
   "id": "bdf53de5",
   "metadata": {},
   "outputs": [],
   "source": []
  },
  {
   "cell_type": "code",
   "execution_count": null,
   "id": "c71c23fb",
   "metadata": {},
   "outputs": [],
   "source": []
  },
  {
   "cell_type": "code",
   "execution_count": null,
   "id": "869acf1a",
   "metadata": {},
   "outputs": [],
   "source": []
  },
  {
   "cell_type": "code",
   "execution_count": null,
   "id": "5aa37e66",
   "metadata": {},
   "outputs": [],
   "source": []
  },
  {
   "cell_type": "code",
   "execution_count": null,
   "id": "649fe47f",
   "metadata": {},
   "outputs": [],
   "source": []
  },
  {
   "cell_type": "code",
   "execution_count": null,
   "id": "747717cf",
   "metadata": {},
   "outputs": [],
   "source": [
    "var_1= int(input())\n",
    "var_2=int(input())\n",
    "# Find the sum of var_1 and var_2"
   ]
  },
  {
   "cell_type": "code",
   "execution_count": null,
   "id": "d0daac0f",
   "metadata": {},
   "outputs": [],
   "source": []
  },
  {
   "cell_type": "code",
   "execution_count": null,
   "id": "d5711395",
   "metadata": {},
   "outputs": [],
   "source": [
    "# add integer and string object\n",
    "# add 7 to var_1\n"
   ]
  },
  {
   "cell_type": "code",
   "execution_count": null,
   "id": "2d248dcc",
   "metadata": {},
   "outputs": [],
   "source": [
    "### Take multiple integer /float inputs using input()"
   ]
  },
  {
   "cell_type": "code",
   "execution_count": null,
   "id": "e1a10323",
   "metadata": {},
   "outputs": [],
   "source": []
  },
  {
   "cell_type": "code",
   "execution_count": null,
   "id": "fa37ebdf",
   "metadata": {},
   "outputs": [],
   "source": []
  },
  {
   "cell_type": "markdown",
   "id": "f1bc4f95",
   "metadata": {},
   "source": [
    "#### Statements and Expressions\n",
    "\n",
    "An Expression is a sequence or combination of values, variables, operators and function calls that always produces or returns a result value.\n",
    "– An Expression always evaluates (calculate) to itself."
   ]
  },
  {
   "cell_type": "markdown",
   "id": "3e82ee75",
   "metadata": {},
   "source": [
    " z = x + y\n",
    "In the above example = and + are operators.\n",
    "\n",
    "So, x + y is an expression.\n",
    "Any Instruction that a python interpreter can execute (carry out) is called a Statement."
   ]
  },
  {
   "cell_type": "markdown",
   "id": "36f1af93",
   "metadata": {},
   "source": [
    "#### Whitespace"
   ]
  },
  {
   "cell_type": "markdown",
   "id": "c3e74e24",
   "metadata": {},
   "source": [
    "### Operators \n",
    "\n",
    "Operators are used to perform operations on variables and values.OPERATORS: Are the special symbols. Eg- + , * , /, etc.\n",
    "\n",
    "- Arithmetic operators\n",
    "- Bitwise operators\n",
    "- Boolean operators\n",
    "- Assignment operators\n",
    "- Relational operators\n",
    "- Operators precedence"
   ]
  },
  {
   "cell_type": "markdown",
   "id": "c67611e3",
   "metadata": {},
   "source": [
    "#### Arithmetic operators"
   ]
  },
  {
   "cell_type": "raw",
   "id": "062117c6",
   "metadata": {},
   "source": [
    "Operator\tDescription\tSyntax\n",
    "+\t          Addition: adds two operands\tx + y\n",
    "–\t          Subtraction: subtracts two operands\tx – y\n",
    "*\t          Multiplication: multiplies two operands\tx * y\n",
    "/\t          Division (float): divides the first operand by the second\tx / y\n",
    "//\t          Division (floor): divides the first operand by the second\tx // y\n",
    "%\t          Modulus: returns the remainder when the first operand is divided by the second\tx % y\n",
    "**\t          Power: Returns first raised to power second\tx ** y"
   ]
  },
  {
   "cell_type": "code",
   "execution_count": null,
   "id": "a37cb776",
   "metadata": {},
   "outputs": [],
   "source": []
  },
  {
   "cell_type": "code",
   "execution_count": null,
   "id": "770dc326",
   "metadata": {},
   "outputs": [],
   "source": []
  },
  {
   "cell_type": "markdown",
   "id": "98c59ab7",
   "metadata": {},
   "source": [
    "#### Relational operators"
   ]
  },
  {
   "cell_type": "raw",
   "id": "29c72230",
   "metadata": {},
   "source": [
    "Operator\t                             Description\t                                      Syntax\n",
    "<\t                               Less than: True if the left operand is less than the right\tx < y\n",
    "==\t                               Equal to: True if both operands are equal\t                x == y\n",
    "!=\t                               Not equal to – True if operands are not equal\t            x != y\n",
    ">=\t                               Greater than or equal to: True if left operand is            x >= y\n",
    "                                     greater than or equal to the right\t"
   ]
  },
  {
   "cell_type": "code",
   "execution_count": null,
   "id": "1988cbdc",
   "metadata": {},
   "outputs": [],
   "source": []
  },
  {
   "cell_type": "code",
   "execution_count": null,
   "id": "22271c1c",
   "metadata": {},
   "outputs": [],
   "source": []
  },
  {
   "cell_type": "code",
   "execution_count": null,
   "id": "c8171cf4",
   "metadata": {},
   "outputs": [],
   "source": []
  },
  {
   "cell_type": "markdown",
   "id": "c2327168",
   "metadata": {},
   "source": [
    "#### Boolean operators\n",
    "The logical operators and, or and not are also referred to as boolean operators"
   ]
  },
  {
   "cell_type": "raw",
   "id": "5dddf52a",
   "metadata": {},
   "source": [
    "Operator\t             Description\t                                              Example\n",
    "and\t             Returns True if both statements are true\t                     x < 5 and x < 10\n",
    "or\t             Returns True if one of the statements is true\t                 x < 5 or x < 4\n",
    "not\t             Reverse the result, returns False if the result is true \t     not(x < 5 and x < 10)"
   ]
  },
  {
   "cell_type": "code",
   "execution_count": null,
   "id": "5d87fb74",
   "metadata": {},
   "outputs": [],
   "source": []
  },
  {
   "cell_type": "code",
   "execution_count": null,
   "id": "38fe0814",
   "metadata": {},
   "outputs": [],
   "source": []
  },
  {
   "cell_type": "code",
   "execution_count": null,
   "id": "4a546f24",
   "metadata": {},
   "outputs": [],
   "source": []
  },
  {
   "cell_type": "raw",
   "id": "2195b97c",
   "metadata": {},
   "source": [
    "PRECEDENCE:\n",
    "\n",
    "P – Parentheses\n",
    "E – Exponentiation\n",
    "M – Multiplication     (Multiplication and division have the same precedence)\n",
    "D – Division\n",
    "A – Addition     (Addition and subtraction have the same precedence)\n",
    "S – Subtraction"
   ]
  },
  {
   "cell_type": "markdown",
   "id": "afde0263",
   "metadata": {},
   "source": [
    "##### 1.Swapping two numbers\n",
    "X=67\n",
    "Y=89"
   ]
  },
  {
   "cell_type": "markdown",
   "id": "7b24dcad",
   "metadata": {},
   "source": [
    "#### 2. Find the area and circumferene of a circle for a given radius.\n",
    "Take input as radius"
   ]
  },
  {
   "cell_type": "markdown",
   "id": "47a32f43",
   "metadata": {},
   "source": [
    "##### 3. Write a program to get a name and give welcome message using input()"
   ]
  },
  {
   "cell_type": "markdown",
   "id": "813f0958",
   "metadata": {},
   "source": [
    "###### 4. Write a program to get the n to the power 5. Take input as positive value."
   ]
  },
  {
   "cell_type": "markdown",
   "id": "2fbf3b13",
   "metadata": {},
   "source": [
    "##### 5. Accept age as input and returns the ouput as next year age."
   ]
  },
  {
   "cell_type": "code",
   "execution_count": null,
   "id": "3dba04df",
   "metadata": {},
   "outputs": [],
   "source": []
  },
  {
   "cell_type": "code",
   "execution_count": null,
   "id": "0b4cee7d",
   "metadata": {},
   "outputs": [],
   "source": []
  },
  {
   "cell_type": "code",
   "execution_count": null,
   "id": "4208475d",
   "metadata": {},
   "outputs": [],
   "source": [
    "# range() function"
   ]
  },
  {
   "cell_type": "markdown",
   "id": "ec49a3ea",
   "metadata": {},
   "source": [
    "**What happens when you multiply an integer or float by True? What happens when you multiply them by False?**\n",
    "- How does the answer change if the numbers are positive or negative?\n",
    "- What happens when you multiply a string by True? By False?\n",
    "\n",
    "**Your goal is to determine what happens when you multiply a boolean by any of these data types. Specifically**"
   ]
  },
  {
   "cell_type": "markdown",
   "id": "656bbd6d",
   "metadata": {},
   "source": [
    "**Write a Python program to calculatethe length of a string**"
   ]
  },
  {
   "cell_type": "code",
   "execution_count": null,
   "id": "b7b28e16",
   "metadata": {},
   "outputs": [],
   "source": []
  },
  {
   "cell_type": "markdown",
   "id": "c027f8c2",
   "metadata": {},
   "source": [
    "#### Strings"
   ]
  },
  {
   "cell_type": "code",
   "execution_count": null,
   "id": "5126ed4f",
   "metadata": {},
   "outputs": [],
   "source": []
  },
  {
   "cell_type": "code",
   "execution_count": null,
   "id": "a407b872",
   "metadata": {},
   "outputs": [],
   "source": []
  },
  {
   "cell_type": "code",
   "execution_count": null,
   "id": "09252b8e",
   "metadata": {},
   "outputs": [],
   "source": []
  },
  {
   "cell_type": "code",
   "execution_count": null,
   "id": "4902a161",
   "metadata": {},
   "outputs": [],
   "source": []
  },
  {
   "cell_type": "code",
   "execution_count": null,
   "id": "cdef9369",
   "metadata": {},
   "outputs": [],
   "source": [
    "## Compare 2 string objects\n",
    "str_1='Welcome to our Program'\n",
    "str_2='Hello World'\n",
    "str_3='Welcome to our Program'"
   ]
  },
  {
   "cell_type": "code",
   "execution_count": null,
   "id": "6924fc53",
   "metadata": {},
   "outputs": [],
   "source": [
    "### use == operator to compare 2 string objects"
   ]
  },
  {
   "cell_type": "code",
   "execution_count": null,
   "id": "f2f1d84e",
   "metadata": {},
   "outputs": [],
   "source": []
  },
  {
   "cell_type": "code",
   "execution_count": null,
   "id": "d61b3ab0",
   "metadata": {},
   "outputs": [],
   "source": [
    "### join two string objects \n",
    "## use  + operator to join two string objects"
   ]
  },
  {
   "cell_type": "code",
   "execution_count": null,
   "id": "e5f232b1",
   "metadata": {},
   "outputs": [],
   "source": [
    "## use * operator to repeat the values in the string object\n",
    "str_4='all programs'"
   ]
  },
  {
   "cell_type": "code",
   "execution_count": null,
   "id": "56016645",
   "metadata": {},
   "outputs": [],
   "source": [
    "### membership operators--> in, not in\n",
    "## To check whether a substring exists within a string or not\n",
    "## check 'a' exists in str_4 or not"
   ]
  },
  {
   "cell_type": "markdown",
   "id": "80504d82",
   "metadata": {},
   "source": [
    "#### String methods"
   ]
  },
  {
   "cell_type": "raw",
   "id": "32c02c1c",
   "metadata": {},
   "source": [
    "Methods\tDescription\n",
    "    upper()\t                 converts the string to uppercase\n",
    "    lower()\t                 converts the string to lowercase\n",
    "    replace()\t             replaces substring inside\n",
    "    find()\t                 returns the index of first occurrence of substring\n",
    "    rstrip()\t             removes trailing characters\n",
    "    split()\t                 splits string from left\n",
    "    startswith()\t         checks if string starts with the specified string\n",
    "    isnumeric()\t             checks numeric characters\n",
    "    index()\t                 returns index of substring"
   ]
  },
  {
   "cell_type": "code",
   "execution_count": null,
   "id": "ad66ac0b",
   "metadata": {},
   "outputs": [],
   "source": [
    "string=\"This program has many more lines 89034 and write a new program of 123 lines to get new results\"\n",
    "## Count the word 'program' appeared in the given string object"
   ]
  },
  {
   "cell_type": "markdown",
   "id": "5778e023",
   "metadata": {},
   "source": [
    "### Conditional Statements \n",
    "\n",
    "                - if, if else, elif,nested if"
   ]
  },
  {
   "cell_type": "markdown",
   "id": "66bd7737",
   "metadata": {},
   "source": [
    "### Conditional Statements\n",
    "\n",
    "#1) if statements\n",
    "\n",
    "#2) if-else statements\n",
    "\n",
    "#3) elif statements\n",
    "\n",
    "#4) Nested if-else statements"
   ]
  },
  {
   "cell_type": "markdown",
   "id": "04344e9a",
   "metadata": {},
   "source": [
    "**Python if statement is one of the most commonly used conditional statements in programming languages. It decides whether certain statements need to be executed or not. It checks for a given condition, if the condition is true, then the set of code present inside the ” if ” block will be executed otherwise not.**\n",
    "\n",
    "#syntax: if condition:\n",
    "             \n",
    "             ## statements\n",
    "            "
   ]
  },
  {
   "cell_type": "code",
   "execution_count": null,
   "id": "af4a387a",
   "metadata": {},
   "outputs": [],
   "source": [
    "# check the given number is less than 15"
   ]
  },
  {
   "cell_type": "code",
   "execution_count": null,
   "id": "78e764e7",
   "metadata": {},
   "outputs": [],
   "source": []
  },
  {
   "cell_type": "markdown",
   "id": "4b228162",
   "metadata": {},
   "source": [
    "##### if-else statement \n",
    "\n",
    "evaluates the Boolean expression. If the condition is TRUE then, the code present in the “ if “ block will be executed otherwise the code of the “else“ block will be executed"
   ]
  },
  {
   "cell_type": "raw",
   "id": "0f5fea34",
   "metadata": {},
   "source": [
    "Syntax:\n",
    "\n",
    "If (EXPRESSION == TRUE):\n",
    "\n",
    "        Statement (Body of the block)\n",
    "        \n",
    "else:\n",
    "\n",
    "        Statement (Body of the block)"
   ]
  },
  {
   "cell_type": "code",
   "execution_count": null,
   "id": "6406f181",
   "metadata": {},
   "outputs": [],
   "source": [
    "# write a program to check whether a given number is positive or negative"
   ]
  },
  {
   "cell_type": "code",
   "execution_count": null,
   "id": "777a1b91",
   "metadata": {},
   "outputs": [],
   "source": []
  },
  {
   "cell_type": "code",
   "execution_count": null,
   "id": "3706ae30",
   "metadata": {},
   "outputs": [],
   "source": []
  },
  {
   "cell_type": "markdown",
   "id": "04dc1e7c",
   "metadata": {},
   "source": [
    "#### elif statements\n",
    "\n",
    "“elif” statement is used to check multiple conditions only if the given condition is false. It’s similar to an “if-else” statement and the only difference is that in “else” we will not check the condition but in “elif” we will check the condition."
   ]
  },
  {
   "cell_type": "raw",
   "id": "4bc8b5ae",
   "metadata": {},
   "source": [
    "Syntax:\n",
    "\n",
    "if (condition):\n",
    "\n",
    "        #Set of statement to execute if condition is true\n",
    "elif (condition):\n",
    "\n",
    "        #Set of statements to be executed when if condition is false and elif condition is true\n",
    "else:\n",
    "\n",
    "   #Set of statement to be executed when both if and elif conditions are false"
   ]
  },
  {
   "cell_type": "code",
   "execution_count": null,
   "id": "cae0fcc8",
   "metadata": {},
   "outputs": [],
   "source": [
    "## Write a program to check whether a given number is positive or negative or zero."
   ]
  },
  {
   "cell_type": "code",
   "execution_count": null,
   "id": "bcc75bdd",
   "metadata": {},
   "outputs": [],
   "source": []
  },
  {
   "cell_type": "markdown",
   "id": "690e9fbc",
   "metadata": {},
   "source": [
    "#### Nested if-else statements\n",
    "Nested “if-else” statements mean that an “if” statement or “if-else” statement is present inside another if or if-else block"
   ]
  },
  {
   "cell_type": "raw",
   "id": "29625a66",
   "metadata": {},
   "source": [
    "if(condition):\n",
    "\n",
    "           #Statements to execute if condition is true\n",
    "           if(condition):\n",
    "           \n",
    "                    #Statements to execute if condition is true\n",
    "           #end of nested if\n",
    "           \n",
    "#end of if"
   ]
  },
  {
   "cell_type": "code",
   "execution_count": null,
   "id": "cd786b16",
   "metadata": {},
   "outputs": [],
   "source": [
    "### Write a program to check whether a given number is positive or negative or zero"
   ]
  },
  {
   "cell_type": "code",
   "execution_count": null,
   "id": "81b78d20",
   "metadata": {},
   "outputs": [],
   "source": []
  },
  {
   "cell_type": "markdown",
   "id": "1a20dc13",
   "metadata": {},
   "source": [
    "#### Hands -on"
   ]
  },
  {
   "cell_type": "code",
   "execution_count": null,
   "id": "7d407a8c",
   "metadata": {},
   "outputs": [],
   "source": [
    "### Write a program to check whether a given number is even or odd"
   ]
  },
  {
   "cell_type": "code",
   "execution_count": null,
   "id": "f37259c2",
   "metadata": {},
   "outputs": [],
   "source": [
    "# Write a program to check whether a person is eligible for voting or not. (accept age from user)"
   ]
  },
  {
   "cell_type": "code",
   "execution_count": null,
   "id": "ecf061b8",
   "metadata": {},
   "outputs": [],
   "source": [
    "#Write a program to check whether a number is divisible by 7 or not."
   ]
  },
  {
   "cell_type": "code",
   "execution_count": null,
   "id": "ae281336",
   "metadata": {},
   "outputs": [],
   "source": [
    "## check whether the given number is of one digited or two digited or three digited or \n",
    "#more than three digited."
   ]
  },
  {
   "cell_type": "code",
   "execution_count": null,
   "id": "b1f3956d",
   "metadata": {},
   "outputs": [],
   "source": [
    "#Find maximum number out of given three numbers"
   ]
  },
  {
   "cell_type": "markdown",
   "id": "6c80101b",
   "metadata": {},
   "source": [
    "#### Loops\n",
    "  - For loop"
   ]
  },
  {
   "cell_type": "markdown",
   "id": "05086e2a",
   "metadata": {},
   "source": [
    "The for loop in Python is used to iterate over a sequence (list, tuple, string) or other iterable objects. Iterating over a sequence is called traversal.\n",
    "Loop continues until we reach the last item in the sequence. The body of for loop is separated from the rest of the code using indentation"
   ]
  },
  {
   "cell_type": "markdown",
   "id": "e821f1b5",
   "metadata": {},
   "source": [
    "For loop\n",
    "#syntax: for i in iterbale:\n",
    "             #statements"
   ]
  },
  {
   "cell_type": "code",
   "execution_count": null,
   "id": "061cb0c9",
   "metadata": {},
   "outputs": [],
   "source": []
  },
  {
   "cell_type": "code",
   "execution_count": null,
   "id": "df2abda7",
   "metadata": {},
   "outputs": [],
   "source": [
    "# print 'hello' 3 times"
   ]
  },
  {
   "cell_type": "code",
   "execution_count": null,
   "id": "c2211da8",
   "metadata": {},
   "outputs": [],
   "source": []
  },
  {
   "cell_type": "markdown",
   "id": "ee06ea25",
   "metadata": {},
   "source": [
    "#### While loop\n",
    "\n",
    "The while loop in Python is used to iterate over a block of code as long as the test expression (condition) is true.\n",
    "\n",
    "##### syntax: while expression:\n",
    "\n",
    "             #statements"
   ]
  },
  {
   "cell_type": "code",
   "execution_count": null,
   "id": "d347cddb",
   "metadata": {},
   "outputs": [],
   "source": [
    "# print 'hello' 3 times"
   ]
  },
  {
   "cell_type": "code",
   "execution_count": null,
   "id": "3a3a8b31",
   "metadata": {},
   "outputs": [],
   "source": [
    "# write a program to find the sum of n natural numbers"
   ]
  },
  {
   "cell_type": "code",
   "execution_count": null,
   "id": "a5110eaa",
   "metadata": {},
   "outputs": [],
   "source": []
  },
  {
   "cell_type": "markdown",
   "id": "bcb13346",
   "metadata": {},
   "source": [
    "### Control statements (Continue, break and pass)\n",
    "Control statements in python are used to control the order of execution of the program based on the values and logic\n",
    "\n",
    "1) Break Statement:\n",
    "The break statement is used to terminate the loop containing it, the control of the program will come out of that loop.\n",
    "\n",
    "2) Continue Statement:\n",
    "When the program encounters a continue statement, it will skip the statements which are present after the continue statement inside the loop and proceed with the next iterations.\n",
    "\n",
    "3) Pass Statement:\n",
    "Pass statement is python is a null operation, which is used when the statement is required syntactically"
   ]
  },
  {
   "cell_type": "code",
   "execution_count": null,
   "id": "f9a316e7",
   "metadata": {},
   "outputs": [],
   "source": [
    "## break\n",
    "## stop the iteration when letter is 'a'"
   ]
  },
  {
   "cell_type": "code",
   "execution_count": null,
   "id": "6d8aff28",
   "metadata": {},
   "outputs": [],
   "source": []
  },
  {
   "cell_type": "code",
   "execution_count": null,
   "id": "a097fb5e",
   "metadata": {},
   "outputs": [],
   "source": [
    "### Continue\n",
    "## print the values 1 to 10, skip the value 6."
   ]
  },
  {
   "cell_type": "code",
   "execution_count": null,
   "id": "b2700021",
   "metadata": {},
   "outputs": [],
   "source": []
  },
  {
   "cell_type": "code",
   "execution_count": null,
   "id": "7910240a",
   "metadata": {},
   "outputs": [],
   "source": [
    "### pass "
   ]
  },
  {
   "cell_type": "code",
   "execution_count": null,
   "id": "0fe87e4b",
   "metadata": {},
   "outputs": [],
   "source": []
  },
  {
   "cell_type": "code",
   "execution_count": null,
   "id": "c00fdd60",
   "metadata": {},
   "outputs": [],
   "source": [
    "#### Hands -on- Problems"
   ]
  },
  {
   "cell_type": "markdown",
   "id": "b658e149",
   "metadata": {},
   "source": [
    "Write a program that prompts the user to input a number and reverse its digits. For example, the reverse of 12345 is 54321; reverse of 5600 is 65."
   ]
  },
  {
   "cell_type": "markdown",
   "id": "246d7786",
   "metadata": {},
   "source": [
    "Write programs to print following patterns :\n",
    "\n",
    "1.\n",
    "**********\n",
    "**********\n",
    "**********\n",
    "**********\n",
    "        \n",
    "2.  \n",
    "*\n",
    "**\n",
    "***\n",
    "****\n",
    "*****"
   ]
  },
  {
   "cell_type": "code",
   "execution_count": null,
   "id": "39296061",
   "metadata": {},
   "outputs": [],
   "source": [
    "Write a program that display following output:\n",
    "\n",
    "SHIFT\n",
    "HIFTS\n",
    "IFTSH\n",
    "FTSHI\n",
    "TSHIF\n",
    "SHIFT"
   ]
  },
  {
   "cell_type": "code",
   "execution_count": null,
   "id": "74e09468",
   "metadata": {},
   "outputs": [],
   "source": [
    "assign_txt=\"This is the sentence with a number 56 here and 72 here\"\n",
    "# count how many times numbers occur in the given string object."
   ]
  },
  {
   "cell_type": "code",
   "execution_count": null,
   "id": "042e55cd",
   "metadata": {},
   "outputs": [],
   "source": []
  },
  {
   "cell_type": "markdown",
   "id": "0cdfc7c6",
   "metadata": {},
   "source": [
    "#### List"
   ]
  },
  {
   "cell_type": "markdown",
   "id": "d535f7e0",
   "metadata": {},
   "source": [
    "- An ordered sequence of values enclosed with []\n",
    "- can be created by [] or list()\n",
    "- mutable\n",
    "- iterable\n",
    "- containg multilpe data types"
   ]
  },
  {
   "cell_type": "code",
   "execution_count": null,
   "id": "2da08f49",
   "metadata": {},
   "outputs": [],
   "source": []
  },
  {
   "cell_type": "code",
   "execution_count": null,
   "id": "2930ba92",
   "metadata": {},
   "outputs": [],
   "source": []
  },
  {
   "cell_type": "code",
   "execution_count": null,
   "id": "84ee5c93",
   "metadata": {},
   "outputs": [],
   "source": []
  },
  {
   "cell_type": "code",
   "execution_count": null,
   "id": "e179adbf",
   "metadata": {},
   "outputs": [],
   "source": []
  },
  {
   "cell_type": "code",
   "execution_count": null,
   "id": "85237a5b",
   "metadata": {},
   "outputs": [],
   "source": [
    "# create a list of int values"
   ]
  },
  {
   "cell_type": "code",
   "execution_count": null,
   "id": "0638abf8",
   "metadata": {},
   "outputs": [],
   "source": [
    "# create a list of string values"
   ]
  },
  {
   "cell_type": "code",
   "execution_count": null,
   "id": "5cb2bd6e",
   "metadata": {},
   "outputs": [],
   "source": [
    "# create a list of multiple data types"
   ]
  },
  {
   "cell_type": "code",
   "execution_count": null,
   "id": "e65bddb3",
   "metadata": {},
   "outputs": [],
   "source": [
    "### iterable"
   ]
  },
  {
   "cell_type": "code",
   "execution_count": null,
   "id": "47ca11b0",
   "metadata": {},
   "outputs": [],
   "source": []
  },
  {
   "cell_type": "code",
   "execution_count": null,
   "id": "1d98281f",
   "metadata": {},
   "outputs": [],
   "source": []
  },
  {
   "cell_type": "code",
   "execution_count": null,
   "id": "06efa276",
   "metadata": {},
   "outputs": [],
   "source": []
  },
  {
   "cell_type": "code",
   "execution_count": null,
   "id": "6caa2e8f",
   "metadata": {},
   "outputs": [],
   "source": [
    "list_5= [2,34,5,[56,81,[43,89],61],10]\n",
    "#extract [43,89]"
   ]
  },
  {
   "cell_type": "code",
   "execution_count": null,
   "id": "4ed6d91c",
   "metadata": {},
   "outputs": [],
   "source": [
    "# mutable"
   ]
  },
  {
   "cell_type": "code",
   "execution_count": null,
   "id": "589ca884",
   "metadata": {},
   "outputs": [],
   "source": []
  },
  {
   "cell_type": "code",
   "execution_count": null,
   "id": "857f9821",
   "metadata": {},
   "outputs": [],
   "source": []
  },
  {
   "cell_type": "code",
   "execution_count": null,
   "id": "8499e39d",
   "metadata": {},
   "outputs": [],
   "source": []
  },
  {
   "cell_type": "code",
   "execution_count": null,
   "id": "7516d5d7",
   "metadata": {},
   "outputs": [],
   "source": []
  },
  {
   "cell_type": "code",
   "execution_count": null,
   "id": "6e65fd7d",
   "metadata": {},
   "outputs": [],
   "source": [
    "list_5= [2,34,5,[56,81,[43,89],61],10]\n",
    "#remove 81"
   ]
  },
  {
   "cell_type": "code",
   "execution_count": null,
   "id": "48e3faee",
   "metadata": {},
   "outputs": [],
   "source": [
    "### split() method on string objects --> it will return list object\n",
    "dt='12-08-2023'"
   ]
  },
  {
   "cell_type": "code",
   "execution_count": null,
   "id": "68139b67",
   "metadata": {},
   "outputs": [],
   "source": [
    "## apply +, * on list objects\n",
    "ls1=[12,23,12,54]\n",
    "ls2=[34,6,7,8]"
   ]
  },
  {
   "cell_type": "code",
   "execution_count": null,
   "id": "aee4396d",
   "metadata": {},
   "outputs": [],
   "source": []
  },
  {
   "cell_type": "markdown",
   "id": "87e7b490",
   "metadata": {},
   "source": [
    "### Hands -on- Problems"
   ]
  },
  {
   "cell_type": "markdown",
   "id": "eb0ae967",
   "metadata": {},
   "source": [
    "Write a Python program to sum all the items in a list."
   ]
  },
  {
   "cell_type": "markdown",
   "id": "51d2d666",
   "metadata": {},
   "source": [
    "Write a Python program to count the number of strings from a given list of strings. The string length is 2 or more and the first and last characters are the same."
   ]
  },
  {
   "cell_type": "markdown",
   "id": "c515be4f",
   "metadata": {},
   "source": [
    "Write a program to print the numbers of a specified list after removing even numbers from a list"
   ]
  },
  {
   "cell_type": "code",
   "execution_count": null,
   "id": "8192bb4c",
   "metadata": {},
   "outputs": [],
   "source": []
  },
  {
   "cell_type": "markdown",
   "id": "4caa0824",
   "metadata": {},
   "source": [
    "#### Tuple"
   ]
  },
  {
   "cell_type": "markdown",
   "id": "accf6d89",
   "metadata": {},
   "source": [
    "- A tuple is a sequence of items\n",
    "- contains multiple data types\n",
    "- created by using () or tuple()\n",
    "- iterables\n",
    "- immutable"
   ]
  },
  {
   "cell_type": "code",
   "execution_count": null,
   "id": "aa5f4a88",
   "metadata": {},
   "outputs": [],
   "source": [
    "# create tuple with multiple data type of elements"
   ]
  },
  {
   "cell_type": "code",
   "execution_count": null,
   "id": "928b7873",
   "metadata": {},
   "outputs": [],
   "source": []
  },
  {
   "cell_type": "code",
   "execution_count": null,
   "id": "b9f528d8",
   "metadata": {},
   "outputs": [],
   "source": []
  },
  {
   "cell_type": "code",
   "execution_count": null,
   "id": "4020781a",
   "metadata": {},
   "outputs": [],
   "source": []
  },
  {
   "cell_type": "markdown",
   "id": "604e7a29",
   "metadata": {},
   "source": [
    "### Hands - on- Problems"
   ]
  },
  {
   "cell_type": "code",
   "execution_count": null,
   "id": "28a7940d",
   "metadata": {},
   "outputs": [],
   "source": [
    "Write a Python program to reverse a tuple."
   ]
  },
  {
   "cell_type": "code",
   "execution_count": null,
   "id": "758572d7",
   "metadata": {},
   "outputs": [],
   "source": [
    "Write a Python program to remove an item from a tuple"
   ]
  },
  {
   "cell_type": "code",
   "execution_count": null,
   "id": "4550ff63",
   "metadata": {},
   "outputs": [],
   "source": []
  },
  {
   "cell_type": "markdown",
   "id": "485b7d16",
   "metadata": {},
   "source": [
    "### Dictionary\n",
    "\n",
    "- A collection of unordered set of key:value pairs\n",
    "\n",
    "- create it by using {} or dict()\n",
    "\n",
    "- keys are unique. values are accessed by using keys, not by index\n",
    "\n",
    "- mutable\n",
    "\n",
    "- iterable"
   ]
  },
  {
   "cell_type": "code",
   "execution_count": null,
   "id": "86282bfd",
   "metadata": {},
   "outputs": [],
   "source": []
  },
  {
   "cell_type": "code",
   "execution_count": null,
   "id": "899a1c33",
   "metadata": {},
   "outputs": [],
   "source": []
  },
  {
   "cell_type": "code",
   "execution_count": null,
   "id": "0baaf0fc",
   "metadata": {},
   "outputs": [],
   "source": [
    "# create dict of integer values"
   ]
  },
  {
   "cell_type": "code",
   "execution_count": null,
   "id": "1d652e0a",
   "metadata": {},
   "outputs": [],
   "source": [
    "#create dict of string values"
   ]
  },
  {
   "cell_type": "code",
   "execution_count": null,
   "id": "a3ddacc4",
   "metadata": {},
   "outputs": [],
   "source": [
    "#create dict of mixed data types"
   ]
  },
  {
   "cell_type": "code",
   "execution_count": null,
   "id": "8cfe1ea1",
   "metadata": {},
   "outputs": [],
   "source": []
  },
  {
   "cell_type": "code",
   "execution_count": null,
   "id": "8ffb627c",
   "metadata": {},
   "outputs": [],
   "source": [
    "#Convert two lists into a dictionary\n",
    "keys = ['Ten', 'Twenty', 'Thirty']\n",
    "values = [10, 20, 30]\n",
    "#Expected output:\n",
    "\n",
    "#{'Ten': 10, 'Twenty': 20, 'Thirty': 30}"
   ]
  },
  {
   "cell_type": "code",
   "execution_count": null,
   "id": "d074a886",
   "metadata": {},
   "outputs": [],
   "source": [
    "# zip() combine 2 more iterable into a single iterable paired together as tuple\n",
    "# zip() --> generator function\n",
    "dict(zip(keys,values))"
   ]
  },
  {
   "cell_type": "code",
   "execution_count": null,
   "id": "132876b9",
   "metadata": {},
   "outputs": [],
   "source": [
    "# Check if a value exists in a dictionary\n",
    "#check if value 200 exists in the following dictionary.\n",
    "\n",
    "sample_dict = {'a': 100, 'b': 200, 'c': 300}"
   ]
  },
  {
   "cell_type": "code",
   "execution_count": null,
   "id": "e9f10a9e",
   "metadata": {},
   "outputs": [],
   "source": [
    "#Rename key of a dictionary\n",
    "#Write a program to rename a key city to a location in the following dictionary."
   ]
  },
  {
   "cell_type": "code",
   "execution_count": null,
   "id": "91c834e9",
   "metadata": {},
   "outputs": [],
   "source": [
    "sample_dict = {\n",
    "  \"name\": \"Kelly\",\n",
    "  \"age\":25,\n",
    "  \"salary\": 8000,\n",
    "  \"city\": \"New york\"\n",
    "}"
   ]
  }
 ],
 "metadata": {
  "kernelspec": {
   "display_name": "Python 3 (ipykernel)",
   "language": "python",
   "name": "python3"
  },
  "language_info": {
   "codemirror_mode": {
    "name": "ipython",
    "version": 3
   },
   "file_extension": ".py",
   "mimetype": "text/x-python",
   "name": "python",
   "nbconvert_exporter": "python",
   "pygments_lexer": "ipython3",
   "version": "3.9.13"
  }
 },
 "nbformat": 4,
 "nbformat_minor": 5
}
